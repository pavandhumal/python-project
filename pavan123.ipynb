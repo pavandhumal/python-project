def pushZerosToright(arr, n): 
    count = 0 
    for i in range(n): 
        if arr[i] != 0: 
            
            arr[count] = arr[i] 
            count+=1
    while count < n: 
                                                    
        arr[count] = 0
        count += 1
1)def mergeArrays(arr1, arr2, n1, n2): 
    arr3 = [None] * (n1 + n2) 
    i = 0
    j = 0
    k = 0
  
    while i < n1 and j < n2: 
      
        if arr1[i] < arr2[j]: 
            arr3[k] = arr1[i] 
            k = k + 1
            i = i + 1
        else: 
            arr3[k] = arr2[j] 
            k = k + 1
            j = j + 1
    
    while i < n1: 
        arr3[k] = arr1[i]; 
        k = k + 1
        i = i + 1
        
    while j < n2: 
        arr3[k] = arr2[j]; 
        k = k + 1
        j = j + 1
    print("Array after merging") 
    for i in range(n1 + n2): 
        print(str(arr3[i]), end = " ") 
        